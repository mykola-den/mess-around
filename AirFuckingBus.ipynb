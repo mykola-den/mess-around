{
 "cells": [
  {
   "cell_type": "code",
   "execution_count": 4,
   "metadata": {},
   "outputs": [
    {
     "name": "stdout",
     "output_type": "stream",
     "text": [
      "tf.Tensor(1006.3291, shape=(), dtype=float32)\n"
     ]
    }
   ],
   "source": [
    "# TODO:\n",
    "# read zip archive\n",
    "# create model\n",
    "\n",
    "\n",
    "import pandas as pd\n",
    "import tensorflow as tf\n",
    "\n",
    "directoryname =\"..\\\\training_data\"\n",
    "metadata = pd.read_csv(f\"{directoryname}\\\\train_ship_segmentations_v2.csv\")\n",
    "\n",
    "metadata.columns\n",
    "print(tf.reduce_sum(tf.random.normal([1000, 1000])))\n",
    "print(\"f\")"
   ]
  }
 ],
 "metadata": {
  "kernelspec": {
   "display_name": ".venv",
   "language": "python",
   "name": "python3"
  },
  "language_info": {
   "codemirror_mode": {
    "name": "ipython",
    "version": 3
   },
   "file_extension": ".py",
   "mimetype": "text/x-python",
   "name": "python",
   "nbconvert_exporter": "python",
   "pygments_lexer": "ipython3",
   "version": "3.11.0"
  }
 },
 "nbformat": 4,
 "nbformat_minor": 2
}
